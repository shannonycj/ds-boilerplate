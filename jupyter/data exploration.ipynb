{
 "cells": [
  {
   "cell_type": "code",
   "execution_count": 1,
   "metadata": {},
   "outputs": [],
   "source": [
    "import pandas as pd\n",
    "import os\n",
    "os.chdir('../')\n",
    "from kernel import utils, data_processing, modelling"
   ]
  },
  {
   "cell_type": "markdown",
   "metadata": {},
   "source": [
    "# 0. ad hoc Preprocessing"
   ]
  },
  {
   "cell_type": "markdown",
   "metadata": {},
   "source": [
    "## 1. Load Training Data"
   ]
  },
  {
   "cell_type": "code",
   "execution_count": null,
   "metadata": {},
   "outputs": [],
   "source": [
    "df = pd.read_parquet('./data/train_transaction.parquet').pipe(utils.detect_id_col)"
   ]
  },
  {
   "cell_type": "code",
   "execution_count": null,
   "metadata": {},
   "outputs": [],
   "source": [
    "df = pd.read_parquet('./data/train_transaction.parquet').pipe(utils.detect_id_col)\n",
    "df = pd.concat([df[df.isFraud == 1], df[df.isFraud == 0].sample(frac=0.1)], axis=0)"
   ]
  },
  {
   "cell_type": "code",
   "execution_count": null,
   "metadata": {},
   "outputs": [],
   "source": [
    "df_fea, labels = utils.split_feature_target(df, 'isFraud')\n",
    "df_fea.head()"
   ]
  },
  {
   "cell_type": "code",
   "execution_count": null,
   "metadata": {},
   "outputs": [],
   "source": [
    "cat_cols = [f'card{i}' for i in range(1, 7)] + [f'M{i}' for i in range(1, 10)]\n",
    "cat_cols += ['P_emaildomain', 'R_emaildomain', 'ProductCD', 'addr1', 'addr2']"
   ]
  },
  {
   "cell_type": "markdown",
   "metadata": {},
   "source": [
    "# 1. Build LR Meta Feature"
   ]
  },
  {
   "cell_type": "code",
   "execution_count": null,
   "metadata": {
    "scrolled": true
   },
   "outputs": [],
   "source": [
    "dp = data_processing.GenericDataProcessor(df_fea, 'fraud', True, 15, cat_cols=cat_cols)"
   ]
  },
  {
   "cell_type": "code",
   "execution_count": null,
   "metadata": {},
   "outputs": [],
   "source": [
    "clf, params_lr, est_lr = modelling.train_lr_classifier(\n",
    "    dp.data.values, labels.values, n_iter=30)"
   ]
  },
  {
   "cell_type": "code",
   "execution_count": null,
   "metadata": {},
   "outputs": [],
   "source": [
    "lr = est_lr(**params_lr).fit(dp.data.values, labels.values)"
   ]
  },
  {
   "cell_type": "code",
   "execution_count": null,
   "metadata": {},
   "outputs": [],
   "source": [
    "lr.predict_proba(dp.data.values)[:, 1]"
   ]
  },
  {
   "cell_type": "code",
   "execution_count": null,
   "metadata": {},
   "outputs": [],
   "source": [
    "df_fea['lr_meta'] = lr.predict_proba(dp.data.values)[:, 1]\n",
    "lr_meta_train = df_fea.lr_meta.to_dict()\n",
    "df_fea = None\n",
    "df['lr_meta'] = df.index.map(lr_meta_train).tolist()\n",
    "train_data_parth = './data/train_transactions_lr_meta.parquet'\n",
    "df.reset_index().to_parquet(train_data_parth)\n",
    "df = None"
   ]
  },
  {
   "cell_type": "code",
   "execution_count": null,
   "metadata": {},
   "outputs": [],
   "source": [
    "df_inf = pd.read_csv('./data/test_transaction.csv')\n",
    "df_inf['lr_meta'] = lr.predict_proba(dp.transform(df_inf))[:, 1]\n",
    "lr_meta_test = df_inf.lr_meta.to_dict()\n",
    "df_inf['lr_meta'] = df_inf.index.map(lr_meta_test).tolist()\n",
    "inf_data_path = './data/test_transactions_lr_meta.parquet'\n",
    "df_inf.to_parquet(inf_data_path)\n",
    "df_inf = None"
   ]
  },
  {
   "cell_type": "markdown",
   "metadata": {},
   "source": [
    "# 2. Catboost"
   ]
  },
  {
   "cell_type": "code",
   "execution_count": null,
   "metadata": {},
   "outputs": [],
   "source": [
    "df = pd.read_parquet(train_data_path)"
   ]
  },
  {
   "cell_type": "code",
   "execution_count": null,
   "metadata": {},
   "outputs": [],
   "source": [
    "df_fea, labels = utils.split_feature_target(df, 'isFraud')\n",
    "df_fea.head()"
   ]
  },
  {
   "cell_type": "code",
   "execution_count": null,
   "metadata": {},
   "outputs": [],
   "source": [
    "df_fea, _, _ = data_processing.catboost_preprocessing(df_fea, cat_cols=cat_cols)"
   ]
  },
  {
   "cell_type": "code",
   "execution_count": null,
   "metadata": {},
   "outputs": [],
   "source": [
    "df_inf = pd.read_parquet(inf_data_path)\n",
    "df_inf.set_index('TransactionID', inplace=True)\n",
    "df_inf, _, _ = data_processing.catboost_preprocessing(df_inf, cat_cols=cat_cols)"
   ]
  },
  {
   "cell_type": "code",
   "execution_count": null,
   "metadata": {},
   "outputs": [],
   "source": [
    "params_m = {'iterations':5000,\n",
    "            'learning_rate':0.02,\n",
    "            'depth':5,\n",
    "            'eval_metric':'AUC',\n",
    "            'verbose':200,\n",
    "            'od_type':\"Iter\", # overfit detector\n",
    "            'od_wait':500, # most recent best iteration to wait before stopping\n",
    "            'random_seed': 1\n",
    "            }\n",
    "cat_model, cr = modelling.train_catboost_classifier(\n",
    "    df_fea, labels, cat_cols, params=params_m, plot=True)"
   ]
  },
  {
   "cell_type": "code",
   "execution_count": null,
   "metadata": {},
   "outputs": [],
   "source": [
    "df_inf['isFraud'] = cat_model.predict(df_inf[cr])\n",
    "df_inf = df_inf.reset_index()[['TransactionID', 'isFraud']]\n",
    "df_inf.to_csv('./data/inf.csv', index=False)"
   ]
  }
 ],
 "metadata": {
  "kernelspec": {
   "display_name": "Python 3",
   "language": "python",
   "name": "python3"
  },
  "language_info": {
   "codemirror_mode": {
    "name": "ipython",
    "version": 3
   },
   "file_extension": ".py",
   "mimetype": "text/x-python",
   "name": "python",
   "nbconvert_exporter": "python",
   "pygments_lexer": "ipython3",
   "version": "3.6.8"
  }
 },
 "nbformat": 4,
 "nbformat_minor": 4
}
